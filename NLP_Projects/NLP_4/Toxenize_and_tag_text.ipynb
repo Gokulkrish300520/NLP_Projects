{
  "nbformat": 4,
  "nbformat_minor": 0,
  "metadata": {
    "colab": {
      "provenance": []
    },
    "kernelspec": {
      "name": "python3",
      "display_name": "Python 3"
    },
    "language_info": {
      "name": "python"
    }
  },
  "cells": [
    {
      "cell_type": "code",
      "source": [
        "import nltk\n",
        "nltk.download('punkt')"
      ],
      "metadata": {
        "colab": {
          "base_uri": "https://localhost:8080/"
        },
        "id": "rmD2xggRC3os",
        "outputId": "762c5b15-112a-4661-891e-5a6c7c98c12d"
      },
      "execution_count": 5,
      "outputs": [
        {
          "output_type": "stream",
          "name": "stderr",
          "text": [
            "[nltk_data] Downloading package punkt to /root/nltk_data...\n",
            "[nltk_data]   Package punkt is already up-to-date!\n"
          ]
        },
        {
          "output_type": "execute_result",
          "data": {
            "text/plain": [
              "True"
            ]
          },
          "metadata": {},
          "execution_count": 5
        }
      ]
    },
    {
      "cell_type": "code",
      "source": [
        "from nltk.tokenize import word_tokenize\n",
        "\n",
        "sample_text = \"this is a text ready to tokenize\"\n",
        "tokens = word_tokenize(sample_text)\n",
        "print(sample_text,tokens)\n"
      ],
      "metadata": {
        "colab": {
          "base_uri": "https://localhost:8080/"
        },
        "id": "sJg3WWvGCB8Q",
        "outputId": "0ef36ea4-586b-4627-832d-c7f734e0e518"
      },
      "execution_count": 7,
      "outputs": [
        {
          "output_type": "stream",
          "name": "stdout",
          "text": [
            "this is a text ready to tokenize ['this', 'is', 'a', 'text', 'ready', 'to', 'tokenize']\n"
          ]
        }
      ]
    },
    {
      "cell_type": "code",
      "source": [
        "from nltk.tokenize import TweetTokenizer\n",
        "\n",
        "tweet_tokenizer = TweetTokenizer()\n",
        "sample_text = \"This is a tweet@jack#NLP\"\n",
        "tokens = tweet_tokenizer.tokenize(sample_text)\n",
        "print(sample_text,tokens)"
      ],
      "metadata": {
        "colab": {
          "base_uri": "https://localhost:8080/"
        },
        "id": "LAeD7lq_CEjl",
        "outputId": "664b9485-7c34-407b-c03a-23110166ac87"
      },
      "execution_count": 10,
      "outputs": [
        {
          "output_type": "stream",
          "name": "stdout",
          "text": [
            "This is a tweet@jack#NLP ['This', 'is', 'a', 'tweet', '@jack', '#NLP']\n"
          ]
        }
      ]
    },
    {
      "cell_type": "code",
      "source": [
        "from nltk.tokenize import sent_tokenize\n",
        "\n",
        "sample_text = \"This is a sentence. This is another one!\\nAnd this is thelast one.\"\n",
        "sentences = sent_tokenize(sample_text)\n",
        "print(sample_text, sentences)\n"
      ],
      "metadata": {
        "colab": {
          "base_uri": "https://localhost:8080/"
        },
        "id": "BsFVOmgCCHNc",
        "outputId": "ea767645-9120-4df0-d7dc-52012b2ca93e"
      },
      "execution_count": 11,
      "outputs": [
        {
          "output_type": "stream",
          "name": "stdout",
          "text": [
            "This is a sentence. This is another one!\n",
            "And this is thelast one. ['This is a sentence.', 'This is another one!', 'And this is thelast one.']\n"
          ]
        }
      ]
    },
    {
      "cell_type": "code",
      "source": [
        "import nltk\n",
        "\n",
        "from nltk.corpus import stopwords\n",
        "\n",
        "nltk.download(\"stopwords\")\n",
        "\n",
        "stopwords_ = set(stopwords.words(\"english\"))\n",
        "\n",
        "sample_text = \"this is a sample text\"\n",
        "tokens = sample_text.split()\n",
        "clean_tokens = [t for t in tokens if not t in stopwords_]\n",
        "clean_text = \" \".join(clean_tokens)\n",
        "print(sample_text,clean_text)\n"
      ],
      "metadata": {
        "colab": {
          "base_uri": "https://localhost:8080/"
        },
        "id": "p7PjVvixCKMs",
        "outputId": "f36f7c89-4b1b-45ff-b7e6-c2ff6f9e6f11"
      },
      "execution_count": 13,
      "outputs": [
        {
          "output_type": "stream",
          "name": "stdout",
          "text": [
            "this is a sample text sample text\n"
          ]
        },
        {
          "output_type": "stream",
          "name": "stderr",
          "text": [
            "[nltk_data] Downloading package stopwords to /root/nltk_data...\n",
            "[nltk_data]   Package stopwords is already up-to-date!\n"
          ]
        }
      ]
    },
    {
      "cell_type": "code",
      "source": [
        "import spacy\n",
        "\n",
        "nlp = spacy.load(\"en_core_web_sm\")\n",
        "\n",
        "sample_text=\"this is a text ready to tokenize\"\n",
        "doc = nlp(sample_text)\n",
        "tokens = [token.text for token in doc]\n",
        "print(sample_text,tokens)\n"
      ],
      "metadata": {
        "colab": {
          "base_uri": "https://localhost:8080/"
        },
        "id": "zeZNyss7CMo2",
        "outputId": "ee56e249-4ec5-4d10-fe62-840f2ca0e8c4"
      },
      "execution_count": 17,
      "outputs": [
        {
          "output_type": "stream",
          "name": "stdout",
          "text": [
            "this is a text ready to tokenize ['this', 'is', 'a', 'text', 'ready', 'to', 'tokenize']\n"
          ]
        }
      ]
    },
    {
      "cell_type": "code",
      "source": [
        "import spacy\n",
        "\n",
        "nlp = spacy. load(\"en_core_web_sm\")\n",
        "\n",
        "sample_text = \"This is a sentence. This is another one! \\nAnd this is thelast one.\"\n",
        "doc = nlp(sample_text)\n",
        "sentences = [sentence.text for sentence in doc.sents]\n",
        "print(sample_text,sentences)"
      ],
      "metadata": {
        "colab": {
          "base_uri": "https://localhost:8080/"
        },
        "id": "3SozrTrYCUP-",
        "outputId": "75f63830-6ece-44c0-9e8f-9e2066bdb414"
      },
      "execution_count": 19,
      "outputs": [
        {
          "output_type": "stream",
          "name": "stdout",
          "text": [
            "This is a sentence. This is another one! \n",
            "And this is thelast one. ['This is a sentence.', 'This is another one! \\n', 'And this is thelast one.']\n"
          ]
        }
      ]
    }
  ]
}